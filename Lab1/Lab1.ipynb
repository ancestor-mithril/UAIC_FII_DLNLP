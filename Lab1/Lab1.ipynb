{
 "cells": [
  {
   "cell_type": "code",
   "execution_count": 10,
   "outputs": [
    {
     "data": {
      "text/plain": "{'five-hitter': 'a game in which a pitcher allows the opposing team 5 hits',\n 'skin_diving': 'is synonym of skin-dive',\n 'person': 'is synonym of individual',\n 'bait_casting': 'the single-handed rod casting of a relatively heavy (artificial) bait',\n 'gainer': 'is synonym of weight_gainer',\n 'dip': 'is synonym of magnetic_inclination',\n 'curvet': 'is synonym of vaulting',\n 'drollery': 'is synonym of clowning',\n 'ice_skating': 'is synonym of ice_skate',\n 'croquet': 'a game in which players hit a wooden ball through a series of hoops; the winner is the first to traverse all the hoops and hit a peg',\n 'professional_wrestling': 'wrestling for money',\n 'hardball': 'is antonym of softball',\n 'professional_baseball': 'playing baseball for money',\n 'physical_entity': 'an entity that has physical existence',\n 'nonworker': 'is antonym of worker',\n 'riding': 'is synonym of depend_upon',\n 'squash': 'is synonym of squelch',\n 'deck_tennis': 'game played mainly on board ocean liners; players toss a ring back and forth over a net that is stretched across a small court',\n 'court_game': 'an athletic game played on a court',\n 'showjumping': 'riding horses in competitions over set courses to demonstrate skill in jumping over obstacles',\n 'belly_flop': 'a dive in which the abdomen bears the main force of impact with the water',\n 'jai_alai': 'a Basque or Spanish game played in a court with a ball and a wickerwork racket',\n 'baseball': 'a ball game played with a bat and ball between two teams of nine players; teams take turns at bat trying to score runs',\n 'vacationer': 'is synonym of vacationist',\n 'surf_casting': 'casting (artificial) bait far out into the ocean (up to 200 yards) with the waves breaking around you',\n 'handball': 'a game played in a walled court or against a single wall by two or four players who strike a rubber ball with their hands',\n 'half_gainer': 'a dive in which the diver throws the feet forward and up to complete a half backward somersault and enters the water facing the diving board',\n 'ski_jumping': 'the act of performing a jump on skis from a high ramp overhanging a snow covered slope',\n 'broad_jump': 'the act of jumping as far as possible from a running start',\n 'pushball': \"a game using a leather ball six feet in diameter; the two side try to push it across the opponents' goal\",\n 'act': 'is synonym of number',\n 'dressage': 'maneuvers of a horse in response to body signals by the rider',\n 'pigsticking': 'the sport of hunting wild boar with spears',\n 'three-day_event': 'an equestrian competition; the first day is dressage; the second is cross-country jumping; the third is stadium jumping',\n 'jumping': 'is synonym of stick_out',\n 'flip': 'is synonym of insolent',\n 'high_jump': 'the act of jumping as high as possible over a horizontal bar',\n 'bullfighting': 'the activity at a bullfight',\n 'dive': 'is synonym of plunge',\n 'polo': 'is synonym of Marco_Polo',\n 'bicycling': 'is synonym of pedal',\n 'bathe': 'is synonym of bath',\n 'ice_hockey': 'is synonym of hockey_game',\n 'clock_golf': 'a form of golf in which you putt from positions arranged on the circumference of a circle around the hole',\n 'sculling': 'rowing by a single oarsman in a racing shell',\n 'steal': 'is synonym of bargain',\n 'tennis': 'is synonym of lawn_tennis',\n 'perfect_game': 'a game in which a pitcher does not allow any opposing player to reach base',\n 'match_play': 'golf scoring by holes won',\n 'blood_sport': 'sport that involves killing animals (especially hunting)',\n 'doubles': 'tennis played with two players on each side',\n 'Greco-Roman_wrestling': 'a style of wrestling where the wrestlers are forbidden to tackle or trip or use holds below the waist',\n 'ball': 'is synonym of bollock',\n 'thoroughbred_racing': 'the sport of racing thoroughbred horses',\n 'three-hitter': 'a game in which a pitcher allows the opposing team only 3 hits',\n 'American_football': 'is synonym of American_football_game',\n 'snorkeling': 'is synonym of snorkel_diving',\n 'leviathan': 'the largest or most massive thing of its kind',\n 'night_game': 'is antonym of day_game',\n 'speed_skating': 'is synonym of speed_skate',\n 'cross-country_riding': 'riding horses across country over obstructions to demonstrate horsemanship',\n 'day_game': 'is antonym of night_game',\n 'professional_football': 'football played for pay',\n 'rounders': 'is synonym of rounder',\n 'in-fighting': 'boxing at close quarters',\n 'volleyball': 'a game in which two teams hit an inflated ball over a high net using their hands',\n 'team_sport': 'a sport that involves competition between teams of players',\n 'judo': 'a sport adapted from jujitsu (using principles of not resisting) and similar to wrestling; developed in Japan',\n 'scuba_diving': 'skin diving with scuba apparatus',\n 'whole': 'is synonym of altogether',\n 'soccer': 'is synonym of association_football',\n 'field_game': 'an outdoor game played on a field of specified dimensions',\n 'cliff_diving': 'diving into the water from a steep overhanging cliff',\n 'figure_skating': 'is synonym of figure_skate',\n 'fly-fishing': 'angling with an artificial fly as a lure',\n 'pun': 'is synonym of punning',\n 'round_of_golf': 'the activity of playing 18 holes of golf',\n \"dead-man's_float\": 'is synonym of prone_float',\n 'entity': 'that which is perceived or known or inferred to have its own distinct existence (living or nonliving)',\n 'greyhound_racing': 'the sport of racing greyhounds',\n 'casting': 'is synonym of hurtle',\n 'tobogganing': 'riding on a long light sled with low handrails',\n 'stickball': 'is synonym of stickball_game',\n 'fight': 'is synonym of oppose',\n 'water_sport': 'is synonym of aquatics',\n 'freak': 'is synonym of junky',\n 'wit': 'is synonym of learning_ability',\n 'jocosity': 'is synonym of jocularity',\n 'overcast': 'a cast that falls beyond the intended spot',\n 'hunt': 'is synonym of search',\n 'auto_racing': 'is synonym of car_racing',\n 'shinny': 'is synonym of sputter',\n 'royal_tennis': 'is synonym of real_tennis',\n 'activity': 'is synonym of activeness',\n 'piaffe': 'a cadenced trot executed by the horse in one spot',\n 'play': 'is synonym of caper',\n 'track': 'is synonym of data_track',\n 'rollerblading': 'skating using Rollerblades',\n 'surfing': 'is synonym of channel-surf',\n 'skateboarding': 'the sport of skating on a skateboard',\n 'football': 'is synonym of football_game',\n 'professional_tennis': 'playing tennis for money',\n 'abstraction': 'a general concept formed by extracting common features from specific examples',\n 'beagling': 'hunting rabbits with beagles',\n 'acrobatics': 'is synonym of stunting',\n 'paintball': 'a game that simulates military combat; players on one team try to eliminate players on the opposing team by shooting capsules of paint at them',\n 'cockfighting': 'participation in the sport of matching gamecocks in a cockfight',\n 'deer_hunting': 'is synonym of deer_hunt',\n 'skinny-dip': 'a naked swim',\n 'ducking': 'is synonym of elude',\n 'singles': 'is synonym of ace',\n 'diversion': 'is synonym of digression',\n 'rope-a-dope': 'a boxing tactic: pretending to be trapped against the ropes while your opponent wears himself out throwing punches',\n 'sumo': 'a Japanese form of wrestling; you lose if you are forced out of a small ring or if any part of your body (other than your feet) touches the ground',\n 'badminton': 'a game played on a court with light long-handled rackets used to volley a shuttlecock over a net',\n 'boat_racing': 'the sport of racing boats',\n 'rowing': 'the act of rowing as a sport',\n 'ball_game': 'a field game played with a ball (especially baseball)',\n 'battledore': 'is synonym of badminton_racket',\n 'four-hitter': 'a game in which a pitcher allows the opposing team 4 hits',\n 'crab': 'is synonym of bitch',\n 'psychological_feature': 'a feature of the mental life of a living organism',\n 'spar': 'making the motions of attack and defense with the fists and arms; a part of training for a boxer',\n 'fives': 'is synonym of V',\n 'basketball': 'is synonym of hoops',\n 'tetherball': 'a game with two players who use rackets to strike a ball that is tethered to the top of a pole; the object is to wrap the string around the pole',\n 'pallone': 'an Italian game similar to tennis',\n 'one-hitter': 'a game in which a pitcher allows the opposing team only one hit',\n 'field_hockey': \"a game resembling ice hockey that is played on an open field; two opposing teams use curved sticks try to drive a ball into the opponents' net\",\n 'battue': 'is synonym of bloodletting',\n 'occupation': 'is synonym of line_of_work',\n 'cross-country_skiing': 'the sport of skiing across the countryside (rather than downhill)',\n 'quoits': 'a game in which iron rings (or open iron rings) are thrown at a stake in the ground in the hope of encircling it',\n 'wrestling': 'is synonym of writhe',\n 'water-skiing': 'skiing on water while being towed by a motorboat',\n 'lacrosse': \"a game invented by American Indians; now played by two teams who use long-handled rackets to catch and carry and throw the ball toward the opponents' goal\",\n 'fox_hunting': 'mounted hunters follow hounds in pursuit of a fox',\n 'motorcycling': 'is synonym of motorcycle',\n 'water_polo': \"a game played in a swimming pool by two teams of swimmers who try to throw an inflated ball into the opponents' goal\",\n 'horse_racing': 'the sport of racing horses',\n 'contact_sport': 'a sport that necessarily involves body contact between opposing players',\n 'fishing': 'the act of someone who fishes as a diversion',\n 'hydroplane_racing': 'racing in high-speed motor boats',\n 'rock_climbing': 'the sport or pastime of scaling rock masses on mountain sides (especially with the help of ropes and special equipment)',\n 'equestrian_sport': 'a sport that tests horsemanship',\n 'medal_play': 'golf scoring by total strokes taken',\n 'fly_casting': 'casting an artificial fly as a lure',\n 'angling': 'is synonym of fish',\n 'softball': 'is synonym of softball_game',\n 'golf': 'a game played on a large open course with 9 or 18 holes; the object is use as few strokes as possible in playing all the holes',\n 'floating': 'is synonym of aimless',\n 'dune_cycling': 'bicycling or motorcycling on sand dunes',\n 'athletic_game': 'a game involving athletic activity',\n 'contestant': 'a person who participates in competitions',\n 'coursing': 'is synonym of run',\n 'athlete': 'a person trained to compete in sports',\n 'no-hit_game': 'a game in which a pitcher allows the opposing team no hits',\n 'shuffleboard': 'a game in which players use long sticks to shove wooden disks onto the scoring area marked on a smooth surface',\n 'touch_football': 'a version of American football in which the ball carrier is touched rather than tackled',\n 'organism': 'a living thing that has (or can develop) the ability to act or function independently',\n 'living_thing': 'is synonym of animate_thing',\n 'roller_skating': 'skating on wheels',\n 'Fosbury_flop': 'jumping over the bar backwards and head first',\n 'gymnastics': 'is synonym of gymnastic_exercise',\n 'skiing': 'a sport in which participants must travel on skis',\n 'daisy_cutter': 'a batted or served ball that skims along close to the ground',\n 'skating': 'is synonym of skate',\n 'jackknife': 'a dive in which the diver bends to touch the ankles before straightening out',\n 'camel_racing': 'the sport of racing camels',\n 'funambulism': 'walking on a tightrope or slack rope',\n 'bobsledding': 'riding on a bobsled',\n 'object': 'is synonym of objective',\n 'racing': 'is synonym of hie',\n 'professional_basketball': 'playing basketball for money',\n 'swimming': 'is synonym of drown',\n 'professional_golf': 'playing golf for money',\n 'cricket': 'a game played with a ball and bat by two teams of 11 players; teams take turns trying to score runs',\n 'ultimate_frisbee': 'a game between two teams whose players try to toss a Frisbee to one another until they cross the opponents goal; possession changes hands when the Frisbee is intercepted or touches the ground or goes out of bounds',\n 'waggery': 'is synonym of drollery',\n 'racquetball': 'a game played on a handball court with short-handled rackets',\n 'cycling': 'is synonym of cycle',\n 'pony-trekking': 'a sport in which people ride across country on ponies',\n 'spectator_sport': 'a sport that many people find entertaining to watch',\n 'boxing': 'fighting with the fists',\n 'have': 'is synonym of take_in',\n 'troll': 'angling by drawing a baited line through the water',\n 'miniature_golf': 'a novelty version of golf played with golf balls and putters on a miniature course featuring many obstacles',\n 'luging': 'riding a light one-man toboggan',\n 'causal_agent': 'is synonym of causal_agency',\n 'communication': 'something that is communicated by or to or between people or groups',\n 'sledding': 'is synonym of sled',\n 'event': 'is synonym of issue',\n 'rugby': 'is synonym of rugger',\n 'hurling': 'is synonym of throw',\n 'track_and_field': 'participating in athletic sports performed on a running track or on the field associated with it',\n 'two-hitter': 'is synonym of 2-hitter',\n 'message': 'what a communication that is about something is about',\n 'flying_mare': 'a wrestling maneuver',\n 'archery': 'the sport of shooting arrows with a bow',\n 'outdoor_game': 'an athletic game that is played outdoors',\n 'netball': 'a team game that resembles basketball; a soccer ball is to be thrown so that it passes through a ring on the top of a post',\n 'professional_boxing': 'boxing for money',\n 'outdoor_sport': 'a sport that is played outdoors',\n 'swan_dive': 'a dive in which the diver arches the back with arms outstretched before entering the water'}"
     },
     "execution_count": 10,
     "metadata": {},
     "output_type": "execute_result"
    }
   ],
   "source": [
    "from nltk.corpus import wordnet as wn\n",
    "import random\n",
    "\n",
    "\n",
    "def get_related_words(word):\n",
    "    related_words = set()\n",
    "    for synset in wn.synsets(word):\n",
    "        hypernyms = lambda s: s.hypernyms()\n",
    "        hyponyms = lambda s: s.hyponyms()\n",
    "        related_words = related_words.union(synset.closure(hypernyms))\n",
    "        related_words = related_words.union(synset.closure(hyponyms))\n",
    "    return related_words\n",
    "\n",
    "\n",
    "def get_hint_for_synset(synset):\n",
    "    word = synset.name().split('.')[0]\n",
    "    lemmas = synset.lemmas()\n",
    "    name = lemmas[0].name()\n",
    "    synonyms = []\n",
    "    antonyms = []\n",
    "    meronyms = []\n",
    "    hyponyms = []\n",
    "    hypernyms = []\n",
    "    for syn in wn.synsets(name):\n",
    "        for l in syn.lemmas():\n",
    "            if l.name().lower() != name.lower():\n",
    "                synonyms.append(l.name())\n",
    "            if l.antonyms():\n",
    "                antonyms += [x.name() for x in l.antonyms()]\n",
    "            if l.member_meronyms():\n",
    "                meronyms += [x.name() for x in l.member_meronyms()]\n",
    "            if l.hyponyms():\n",
    "                hyponyms += [x.name() for x in l.hyponyms()]\n",
    "            if l.hypernyms():\n",
    "                hypernyms += [x.name() for x in l.hypernyms()]\n",
    "\n",
    "    synonyms = set(synonyms)\n",
    "    antonyms = set(antonyms)\n",
    "    meronyms = set(meronyms)\n",
    "    hyponyms = set(hyponyms)\n",
    "\n",
    "    help_text = [\"is synonym of \" + x for x in synonyms]\n",
    "    help_text += [\"is antonym of \" + x for x in antonyms]\n",
    "    help_text += [\"is part of \" + x for x in meronyms]\n",
    "    help_text += [\"is sort of \" + x for x in hyponyms]\n",
    "    help_text += [\"is a \" + x for x in hypernyms]\n",
    "    help_text += [synset.definition()]\n",
    "    return name, random.sample(list(help_text), 1)[0]\n",
    "\n",
    "\n",
    "def get_words_and_definitions(input_word):\n",
    "    related_words = get_related_words(input_word)\n",
    "    word_and_definitions = dict()\n",
    "    for i in related_words:\n",
    "        word, definition = get_hint_for_synset(i)\n",
    "        word_and_definitions[word] = definition\n",
    "        # print(word, definition)\n",
    "    return word_and_definitions\n",
    "\n",
    "get_words_and_definitions('sports')"
   ],
   "metadata": {
    "collapsed": false,
    "pycharm": {
     "name": "#%%\n"
    }
   }
  }
 ],
 "metadata": {
  "kernelspec": {
   "display_name": "Python 3",
   "language": "python",
   "name": "python3"
  },
  "language_info": {
   "codemirror_mode": {
    "name": "ipython",
    "version": 2
   },
   "file_extension": ".py",
   "mimetype": "text/x-python",
   "name": "python",
   "nbconvert_exporter": "python",
   "pygments_lexer": "ipython2",
   "version": "2.7.6"
  }
 },
 "nbformat": 4,
 "nbformat_minor": 0
}